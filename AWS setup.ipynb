{
 "cells": [
  {
   "cell_type": "markdown",
   "metadata": {},
   "source": [
    "Setup keys in `$aws configure` and use `us-west-2`\n",
    "\n",
    "Create instance using `$bash ~/git/PracticalDeepLearningforCoders/courses/setup/setup_t2_micro.sh`\n",
    "\n",
    "If error \"A client error (InvalidKeyPair.NotFound) occurred when calling the RunInstances operation: The key pair 'aws-key-fast-ai' does not exist\n",
    "\"\n",
    "Do\n",
    "```\n",
    "$ rm ~/.ssh/aws-key-fast-ai.pem\n",
    "```\n",
    "\n",
    "Inside the instance:\n",
    "```\n",
    "$ nvidia-smi\n",
    "$ sudo rm .bash_history`\n",
    "$ jupyter notebook\n",
    "```\n",
    "\n",
    "Password for notebook `dl_course`\n",
    "\n",
    "In `.bash_profile`, add\n",
    "```\n",
    "alias ssh_fastai_t2='ssh -i /Users/yangzhang/.ssh/aws-key-fast-ai.pem ubuntu@ec2-55-555-555-555.us-west-2.compute.amazonaws.com'\n",
    "```\n",
    "Notebook is on `55.555.555.555:8888`"
   ]
  }
 ],
 "metadata": {
  "kernelspec": {
   "display_name": "Python 2",
   "language": "python",
   "name": "python2"
  },
  "language_info": {
   "codemirror_mode": {
    "name": "ipython",
    "version": 2
   },
   "file_extension": ".py",
   "mimetype": "text/x-python",
   "name": "python",
   "nbconvert_exporter": "python",
   "pygments_lexer": "ipython2",
   "version": "2.7.13"
  },
  "toc": {
   "colors": {
    "hover_highlight": "#DAA520",
    "running_highlight": "#FF0000",
    "selected_highlight": "#FFD700"
   },
   "moveMenuLeft": true,
   "nav_menu": {
    "height": "12px",
    "width": "252px"
   },
   "navigate_menu": true,
   "number_sections": true,
   "sideBar": true,
   "threshold": 4,
   "toc_cell": false,
   "toc_section_display": "block",
   "toc_window_display": false
  }
 },
 "nbformat": 4,
 "nbformat_minor": 2
}
