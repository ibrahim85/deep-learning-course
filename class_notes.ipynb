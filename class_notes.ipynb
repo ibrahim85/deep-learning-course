{
 "cells": [
  {
   "cell_type": "markdown",
   "metadata": {
    "collapsed": true
   },
   "source": [
    "# Lesson 1\n",
    "## tmx \n",
    "It's a multiwindow tool for ssh. Good if you have a always running server, not for aws ec2 when you need to shut down to save money.\n",
    "## Keras backend options  \n",
    "  - Theano, older, more stable, not good at multiple gpus; \n",
    "  - Tensorflow, newer, less stable, good at multiple gpus and last 0.01% improvements\n",
    "\n",
    "## Set Keras backend \n",
    "### In `~/.keras/keras.json`:\n",
    "#### Theano backend\n",
    "```\n",
    "{\n",
    "    \"image_dim_ordering\": \"th\", \n",
    "    \"epsilon\": 1e-07, \n",
    "    \"floatx\": \"float32\", \n",
    "    \"backend\": \"theano\"\n",
    "}\n",
    "\n",
    "```\n",
    "#### Tensorflow backend\n",
    "\n",
    "```\n",
    "{\n",
    "    \"image_dim_ordering\": \"tf\", \n",
    "    \"epsilon\": 1e-07, \n",
    "    \"floatx\": \"float32\", \n",
    "    \"backend\": \"tensorflow\"\n",
    "}\n",
    "```\n",
    "### In code: \n",
    "Set \n",
    "```\n",
    "os.environ[\"KERAS_BACKEND\"] = \"theano\"\n",
    "```\n",
    "\n",
    "## Make theano use cpu instead of gpu\n",
    "Where is `.theanorc`? There is no such file but can be created by running (as instructed [here](http://stackoverflow.com/questions/21608025/how-to-set-up-theano-config))\n",
    "```\n",
    "echo -e \"\\n[global]\\nfloatX=float32\\n\" >> ~/.theanorc\n",
    "```\n",
    "Then set `~/.theanorc` to be\n",
    "```\n",
    "[global]\n",
    "device=cpu\n",
    "floatX=float32\n",
    "\n",
    "```"
   ]
  }
 ],
 "metadata": {
  "anaconda-cloud": {},
  "kernelspec": {
   "display_name": "Python 3",
   "language": "python",
   "name": "python3"
  },
  "language_info": {
   "codemirror_mode": {
    "name": "ipython",
    "version": 3
   },
   "file_extension": ".py",
   "mimetype": "text/x-python",
   "name": "python",
   "nbconvert_exporter": "python",
   "pygments_lexer": "ipython3",
   "version": "3.6.0"
  },
  "toc": {
   "colors": {
    "hover_highlight": "#DAA520",
    "running_highlight": "#FF0000",
    "selected_highlight": "#FFD700"
   },
   "moveMenuLeft": true,
   "nav_menu": {
    "height": "30px",
    "width": "252px"
   },
   "navigate_menu": true,
   "number_sections": true,
   "sideBar": true,
   "threshold": 4,
   "toc_cell": false,
   "toc_section_display": "block",
   "toc_window_display": true,
   "widenNotebook": false
  }
 },
 "nbformat": 4,
 "nbformat_minor": 1
}
